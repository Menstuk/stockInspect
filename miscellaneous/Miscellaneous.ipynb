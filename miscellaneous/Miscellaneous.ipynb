{
 "cells": [
  {
   "cell_type": "code",
   "execution_count": null,
   "id": "initial_id",
   "metadata": {
    "collapsed": true
   },
   "outputs": [],
   "source": [
    "import pandas as pd"
   ]
  },
  {
   "cell_type": "code",
   "execution_count": null,
   "outputs": [],
   "source": [
    "#RESTART ROWS\n",
    "new_full_data = pd.read_csv(\"C:/Users/manor/Desktop/Final Project - Algotrading/First Developement Step/read_input_data/new_full_data.csv\")\n",
    "new_full_data.to_csv(\"C:/Users/manor/Desktop/Final Project - Algotrading/First Developement Step/read_input_data/new_full_data_test.csv\", index=False)"
   ],
   "metadata": {
    "collapsed": false
   },
   "id": "266256ec3fc57525"
  },
  {
   "cell_type": "code",
   "execution_count": 47,
   "outputs": [
    {
     "data": {
      "text/plain": "2744       124.64\n5489        59.76\n8234       105.39\n10729      158.43\n13474      377.23\n            ...  \n1311531    126.45\n1314276    269.00\n1317021    117.67\n1319766     50.23\n1322240    148.13\nName: close_price, Length: 501, dtype: float64"
     },
     "execution_count": 47,
     "metadata": {},
     "output_type": "execute_result"
    }
   ],
   "source": [
    "# TEST MODEL INPUT\n",
    "new_full_data = pd.read_csv(\"C:/Users/manor/Desktop/Final Project - Algotrading/First Developement Step/read_input_data/new_full_data_test.csv\")\n",
    "new_full_data['date'] = pd.to_datetime(new_full_data.date, dayfirst=True)\n",
    "new_full_data['date'] = new_full_data['date'].dt.strftime('%d/%m/%Y')\n",
    "\n",
    "new_full_data.loc[new_full_data['date'] == '28/11/2022', 'close_price']"
   ],
   "metadata": {
    "collapsed": false
   },
   "id": "96df784b8cae2080"
  },
  {
   "cell_type": "code",
   "execution_count": 44,
   "outputs": [],
   "source": [
    "# CREATE MODEL INPUT\n",
    "# generate random integer values\n",
    "import numpy as np\n",
    "from numpy.random import seed\n",
    "from numpy.random import randint\n",
    "# seed random number generator\n",
    "seed(1)\n",
    "# generate some integers\n",
    "random_closing_prices = np.array(randint(0, 5960, 501))\n",
    "\n",
    "stocks_by_id = pd.read_csv(\n",
    "    \"C:/Users/manor/Desktop/Final Project - Algotrading/First Developement Step/Edited Databases/stocks_by_id_after_editing.csv\"\n",
    ")\n",
    "latest_dates = pd.DataFrame(data={'id' : stocks_by_id['id'], 'date' : '28/11/2022', 'close_price' : last_dates_prices.to_numpy()})\n",
    "\n",
    "latest_dates\n",
    "latest_dates.to_csv(\n",
    "    \"C:/Users/manor/Desktop/Final Project - Algotrading/First Developement Step/read_input_data/model_input/latest dates of stocks.csv\")"
   ],
   "metadata": {
    "collapsed": false
   },
   "id": "12e618826f42327c"
  },
  {
   "cell_type": "code",
   "execution_count": 69,
   "outputs": [
    {
     "name": "stdout",
     "output_type": "stream",
     "text": [
      "67\n",
      "68\n",
      "69\n"
     ]
    }
   ],
   "source": [
    "new_day_prices = pd.read_csv(\n",
    "    'C:/Users/manor/Desktop/Final Project - Algotrading/First Developement Step/read_input_data/model_input/latest dates of stocks.csv',\n",
    "            index_col=0)\n",
    "new_day_prices_ids = new_day_prices['id'].tolist()\n",
    "\n",
    "paths_list = [\n",
    "            f'C:/Users/manor/Desktop/Final Project - Algotrading/First Developement Step/algotrading_model/rf_models/rf_for_stock_{stock_id}_compressed.joblib'\n",
    "            for stock_id in new_day_prices_ids\n",
    "                    ]\n",
    "for path in paths_list:\n",
    "    # id = [int(id) for id in path.split(sep='_') if id.isdigit()]\n",
    "    # print(id[0])\n",
    "    print(int(path.split(sep='_')[5]))"
   ],
   "metadata": {
    "collapsed": false
   },
   "id": "42b1873fb6f0134c"
  },
  {
   "cell_type": "code",
   "execution_count": 71,
   "outputs": [
    {
     "data": {
      "text/plain": "    stock name  stock id  number of samples\n0          MMM         1               2745\n1          AOS         2               2745\n2          ABT         3               2745\n3         ABBV         4               2495\n4         ABMD         5               2745\n..         ...       ...                ...\n496        YUM       497               2745\n497       ZBRA       498               2745\n498        ZBH       499               2745\n499       ZION       500               2745\n500        ZTS       501               2474\n\n[501 rows x 3 columns]",
      "text/html": "<div>\n<style scoped>\n    .dataframe tbody tr th:only-of-type {\n        vertical-align: middle;\n    }\n\n    .dataframe tbody tr th {\n        vertical-align: top;\n    }\n\n    .dataframe thead th {\n        text-align: right;\n    }\n</style>\n<table border=\"1\" class=\"dataframe\">\n  <thead>\n    <tr style=\"text-align: right;\">\n      <th></th>\n      <th>stock name</th>\n      <th>stock id</th>\n      <th>number of samples</th>\n    </tr>\n  </thead>\n  <tbody>\n    <tr>\n      <th>0</th>\n      <td>MMM</td>\n      <td>1</td>\n      <td>2745</td>\n    </tr>\n    <tr>\n      <th>1</th>\n      <td>AOS</td>\n      <td>2</td>\n      <td>2745</td>\n    </tr>\n    <tr>\n      <th>2</th>\n      <td>ABT</td>\n      <td>3</td>\n      <td>2745</td>\n    </tr>\n    <tr>\n      <th>3</th>\n      <td>ABBV</td>\n      <td>4</td>\n      <td>2495</td>\n    </tr>\n    <tr>\n      <th>4</th>\n      <td>ABMD</td>\n      <td>5</td>\n      <td>2745</td>\n    </tr>\n    <tr>\n      <th>...</th>\n      <td>...</td>\n      <td>...</td>\n      <td>...</td>\n    </tr>\n    <tr>\n      <th>496</th>\n      <td>YUM</td>\n      <td>497</td>\n      <td>2745</td>\n    </tr>\n    <tr>\n      <th>497</th>\n      <td>ZBRA</td>\n      <td>498</td>\n      <td>2745</td>\n    </tr>\n    <tr>\n      <th>498</th>\n      <td>ZBH</td>\n      <td>499</td>\n      <td>2745</td>\n    </tr>\n    <tr>\n      <th>499</th>\n      <td>ZION</td>\n      <td>500</td>\n      <td>2745</td>\n    </tr>\n    <tr>\n      <th>500</th>\n      <td>ZTS</td>\n      <td>501</td>\n      <td>2474</td>\n    </tr>\n  </tbody>\n</table>\n<p>501 rows × 3 columns</p>\n</div>"
     },
     "execution_count": 71,
     "metadata": {},
     "output_type": "execute_result"
    }
   ],
   "source": [
    "new_full_data = pd.read_csv(\n",
    "    \"C:/Users/manor/Desktop/Final Project - Algotrading/First Developement Step/read_input_data/new_full_data.csv\")\n",
    "stocks_by_id = pd.read_csv(\n",
    "    \"C:/Users/manor/Desktop/Final Project - Algotrading/First Developement Step/Edited Databases/stocks_by_id_after_editing.csv\")\n",
    "ids = new_full_data['id'].drop_duplicates()\n",
    "id_to_samples = {id: len(new_full_data[new_full_data[\"id\"] == id]) for id in ids}\n",
    "id_to_samples_df = pd.DataFrame({'stock name' : stocks_by_id[stocks_by_id['id'] == [id for id in id_to_samples.keys()]]['stock'], 'stock id' : id_to_samples.keys(), 'number of samples' : id_to_samples.values()})\n",
    "id_to_samples_df"
   ],
   "metadata": {
    "collapsed": false
   },
   "id": "50d4387e27ac911e"
  },
  {
   "cell_type": "code",
   "execution_count": 148,
   "outputs": [
    {
     "data": {
      "text/plain": "        id        date  close_price\n173280  66  08/09/2017       175.50\n173281  66  11/09/2017       177.87\n173282  66  12/09/2017       178.63\n173283  66  13/09/2017       178.92\n173284  66  14/09/2017       178.57\n173285  66  15/09/2017       179.89\n173286  66  18/09/2017       181.47\n173287  66  19/09/2017       183.01\n173288  66  20/09/2017       183.82\n173289  66  21/09/2017       183.16\n173290  66  22/09/2017       181.86\n173291  66  25/09/2017       182.52\n173292  66  26/09/2017       181.86\n173293  66  27/09/2017       183.27",
      "text/html": "<div>\n<style scoped>\n    .dataframe tbody tr th:only-of-type {\n        vertical-align: middle;\n    }\n\n    .dataframe tbody tr th {\n        vertical-align: top;\n    }\n\n    .dataframe thead th {\n        text-align: right;\n    }\n</style>\n<table border=\"1\" class=\"dataframe\">\n  <thead>\n    <tr style=\"text-align: right;\">\n      <th></th>\n      <th>id</th>\n      <th>date</th>\n      <th>close_price</th>\n    </tr>\n  </thead>\n  <tbody>\n    <tr>\n      <th>173280</th>\n      <td>66</td>\n      <td>08/09/2017</td>\n      <td>175.50</td>\n    </tr>\n    <tr>\n      <th>173281</th>\n      <td>66</td>\n      <td>11/09/2017</td>\n      <td>177.87</td>\n    </tr>\n    <tr>\n      <th>173282</th>\n      <td>66</td>\n      <td>12/09/2017</td>\n      <td>178.63</td>\n    </tr>\n    <tr>\n      <th>173283</th>\n      <td>66</td>\n      <td>13/09/2017</td>\n      <td>178.92</td>\n    </tr>\n    <tr>\n      <th>173284</th>\n      <td>66</td>\n      <td>14/09/2017</td>\n      <td>178.57</td>\n    </tr>\n    <tr>\n      <th>173285</th>\n      <td>66</td>\n      <td>15/09/2017</td>\n      <td>179.89</td>\n    </tr>\n    <tr>\n      <th>173286</th>\n      <td>66</td>\n      <td>18/09/2017</td>\n      <td>181.47</td>\n    </tr>\n    <tr>\n      <th>173287</th>\n      <td>66</td>\n      <td>19/09/2017</td>\n      <td>183.01</td>\n    </tr>\n    <tr>\n      <th>173288</th>\n      <td>66</td>\n      <td>20/09/2017</td>\n      <td>183.82</td>\n    </tr>\n    <tr>\n      <th>173289</th>\n      <td>66</td>\n      <td>21/09/2017</td>\n      <td>183.16</td>\n    </tr>\n    <tr>\n      <th>173290</th>\n      <td>66</td>\n      <td>22/09/2017</td>\n      <td>181.86</td>\n    </tr>\n    <tr>\n      <th>173291</th>\n      <td>66</td>\n      <td>25/09/2017</td>\n      <td>182.52</td>\n    </tr>\n    <tr>\n      <th>173292</th>\n      <td>66</td>\n      <td>26/09/2017</td>\n      <td>181.86</td>\n    </tr>\n    <tr>\n      <th>173293</th>\n      <td>66</td>\n      <td>27/09/2017</td>\n      <td>183.27</td>\n    </tr>\n  </tbody>\n</table>\n</div>"
     },
     "execution_count": 148,
     "metadata": {},
     "output_type": "execute_result"
    }
   ],
   "source": [
    "new_full_data[new_full_data['id']==66]"
   ],
   "metadata": {
    "collapsed": false
   },
   "id": "3a8b8c7ef003251"
  },
  {
   "cell_type": "code",
   "execution_count": 73,
   "outputs": [
    {
     "data": {
      "text/plain": "last date\n2022-11-28    501\nName: count, dtype: int64"
     },
     "execution_count": 73,
     "metadata": {},
     "output_type": "execute_result"
    }
   ],
   "source": [
    "new_full_data = pd.read_csv(\"C:/Users/manor/Desktop/Final Project - Algotrading/First Developement Step/read_input_data/new_full_data.csv\")\n",
    "ids = new_full_data['id'].drop_duplicates()\n",
    "id_to_last_date = {}\n",
    "new_full_data['date'] = pd.to_datetime(new_full_data['date'], dayfirst=True)\n",
    "for id in ids:\n",
    "    stock_data = new_full_data[new_full_data[\"id\"] == id].copy()\n",
    "    latest_date = stock_data[\"date\"].max()\n",
    "    id_to_last_date[id] = stock_data.loc[stock_data[\"date\"] == latest_date, \"date\"].iloc[0]\n",
    "\n",
    "id_to_last_date_df = pd.DataFrame({'id': id_to_last_date.keys(), 'last date': id_to_last_date.values()})\n",
    "id_to_last_date_df['last date'].value_counts()"
   ],
   "metadata": {
    "collapsed": false
   },
   "id": "162dad66850330d0"
  },
  {
   "cell_type": "code",
   "execution_count": 21,
   "outputs": [
    {
     "data": {
      "text/plain": "66"
     },
     "execution_count": 21,
     "metadata": {},
     "output_type": "execute_result"
    }
   ],
   "source": [
    "exceptional_date = '2017-09-27'\n",
    "id_to_last_date_df.loc[id_to_last_date_df['last date'] == exceptional_date, 'id'].iloc[0]"
   ],
   "metadata": {
    "collapsed": false
   },
   "id": "db958884735d0a88"
  }
 ],
 "metadata": {
  "kernelspec": {
   "display_name": "Python 3",
   "language": "python",
   "name": "python3"
  },
  "language_info": {
   "codemirror_mode": {
    "name": "ipython",
    "version": 2
   },
   "file_extension": ".py",
   "mimetype": "text/x-python",
   "name": "python",
   "nbconvert_exporter": "python",
   "pygments_lexer": "ipython2",
   "version": "2.7.6"
  }
 },
 "nbformat": 4,
 "nbformat_minor": 5
}
